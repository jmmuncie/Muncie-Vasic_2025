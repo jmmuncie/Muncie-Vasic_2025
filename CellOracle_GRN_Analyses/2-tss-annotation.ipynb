{
 "cells": [
  {
   "cell_type": "markdown",
   "id": "18630f2d-9cdc-4114-bc42-bcbcbeda5516",
   "metadata": {},
   "source": [
    "# Annotate TSS\n",
    "\n",
    "Before building the base GRN, we need to annotate the coaccessible peaks and filter our active promoter/enhancer elements. First, we will identify the peaks around transcription starting sites (TSS). We will then merge the Cicero data with the TSS peak information and filter any peaks with weak connections to the TSS peaks. As such, the filtered peak data will only include TSS peaks and peaks with strong TSS connections. These will be our active promoter/enhancer elements for our base GRN.\n",
    "\n",
    "\n",
    "Most of this code is from the CellOracle tutorial: https://morris-lab.github.io/CellOracle.documentation/notebooks/01_ATAC-seq_data_processing/option1_scATAC-seq_data_analysis_with_cicero/02_preprocess_peak_data.html\n",
    "\n",
    "### 1. Import libraries"
   ]
  },
  {
   "cell_type": "code",
   "execution_count": 1,
   "id": "248c902e-af6f-4b72-8d85-4c10ab69e81e",
   "metadata": {
    "tags": []
   },
   "outputs": [],
   "source": [
    "import pandas as pd\n",
    "import numpy as np\n",
    "import matplotlib.pyplot as plt\n",
    "%matplotlib inline\n",
    "\n",
    "import seaborn as sns\n",
    "\n",
    "\n",
    "import os, sys, shutil, importlib, glob\n",
    "from tqdm.notebook import tqdm\n",
    "\n",
    "%config InlineBackend.figure_format = 'retina'\n",
    "\n",
    "plt.rcParams['figure.figsize'] = [6, 4.5]\n",
    "plt.rcParams[\"savefig.dpi\"] = 300"
   ]
  },
  {
   "cell_type": "code",
   "execution_count": 2,
   "id": "ab273ba7-240d-4280-81e7-94181eed500f",
   "metadata": {
    "tags": []
   },
   "outputs": [
    {
     "name": "stderr",
     "output_type": "stream",
     "text": [
      "which: no R in (/apps/software/standard/core/jupyterlab/3.6.3-py3.11:/apps/software/standard/core/jupyterlab/3.6.3-py3.11/sbin:/apps/software/standard/core/jupyterlab/3.6.3-py3.11/bin:/home/apc5un/bedtools2/bin:/opt/mam/9.1.2/bin:/usr/local/bin:/usr/bin:/usr/local/sbin:/usr/sbin:/opt/slurm/current/bin:/opt/singularity/current/bin:/opt/rci/bin:/share/rci_apps/common/bin:/share/resources/HPCtools:/opt/mam/current/bin:/opt/apptainer/current/bin)\n"
     ]
    },
    {
     "data": {
      "text/plain": [
       "'0.14.0'"
      ]
     },
     "execution_count": 2,
     "metadata": {},
     "output_type": "execute_result"
    }
   ],
   "source": [
    "import warnings\n",
    "warnings.filterwarnings('ignore')\n",
    "from celloracle import motif_analysis as ma\n",
    "import celloracle as co\n",
    "co.__version__"
   ]
  },
  {
   "cell_type": "markdown",
   "id": "2fd14385-fdd7-4fcc-b92e-17d29b9a514d",
   "metadata": {},
   "source": [
    "### 2. Load scATAC peak data and peak connection data made with Cicero\n",
    "\n",
    "In this notebook, we will annotate and filter output from Cicero. Refer to data output from `make-cicero.R`.\n",
    "\n",
    "Here, I will use either the pan-cardiac cicero connections, or cluster-by-cluster connections.\n",
    "\n",
    "Below, I load the peaks and cicero CSV files. You'll do this for each timepoint and both WT/KO conditions."
   ]
  },
  {
   "cell_type": "code",
   "execution_count": 4,
   "id": "2ac5dec9-def3-48be-b1ff-0a07a8389c74",
   "metadata": {
    "tags": []
   },
   "outputs": [
    {
     "data": {
      "text/plain": [
       "array(['chr1_3057421_3057921', 'chr1_3191671_3192171',\n",
       "       'chr1_3212387_3212887', ..., 'chrX_169899171_169899671',\n",
       "       'chrX_169906174_169906674', 'chrX_169911120_169911620'],\n",
       "      dtype=object)"
      ]
     },
     "execution_count": 4,
     "metadata": {},
     "output_type": "execute_result"
    }
   ],
   "source": [
    "timepoint = \"E9\"\n",
    "wt_or_ko = \"WT\"\n",
    "peaks = pd.read_csv(f\"./data/base_grn_outputs/{timepoint}/{wt_or_ko}_peaks.csv\", index_col=0)\n",
    "peaks = peaks.x.values\n",
    "peaks"
   ]
  },
  {
   "cell_type": "code",
   "execution_count": 12,
   "id": "59a1ecac-2f27-4cc7-ba3a-12cf20194bc9",
   "metadata": {
    "tags": []
   },
   "outputs": [
    {
     "data": {
      "text/html": [
       "<div>\n",
       "<style scoped>\n",
       "    .dataframe tbody tr th:only-of-type {\n",
       "        vertical-align: middle;\n",
       "    }\n",
       "\n",
       "    .dataframe tbody tr th {\n",
       "        vertical-align: top;\n",
       "    }\n",
       "\n",
       "    .dataframe thead th {\n",
       "        text-align: right;\n",
       "    }\n",
       "</style>\n",
       "<table border=\"1\" class=\"dataframe\">\n",
       "  <thead>\n",
       "    <tr style=\"text-align: right;\">\n",
       "      <th></th>\n",
       "      <th>Peak1</th>\n",
       "      <th>Peak2</th>\n",
       "      <th>coaccess</th>\n",
       "    </tr>\n",
       "  </thead>\n",
       "  <tbody>\n",
       "    <tr>\n",
       "      <th>1</th>\n",
       "      <td>chr10_100014083_100014583</td>\n",
       "      <td>chr10_99759099_99759599</td>\n",
       "      <td>0.000000</td>\n",
       "    </tr>\n",
       "    <tr>\n",
       "      <th>2</th>\n",
       "      <td>chr10_100014083_100014583</td>\n",
       "      <td>chr10_99824387_99824887</td>\n",
       "      <td>-0.029619</td>\n",
       "    </tr>\n",
       "    <tr>\n",
       "      <th>3</th>\n",
       "      <td>chr10_100014083_100014583</td>\n",
       "      <td>chr10_99841329_99841829</td>\n",
       "      <td>0.000000</td>\n",
       "    </tr>\n",
       "    <tr>\n",
       "      <th>4</th>\n",
       "      <td>chr10_100014083_100014583</td>\n",
       "      <td>chr10_99875647_99876147</td>\n",
       "      <td>0.000000</td>\n",
       "    </tr>\n",
       "    <tr>\n",
       "      <th>5</th>\n",
       "      <td>chr10_100014083_100014583</td>\n",
       "      <td>chr10_99882667_99883167</td>\n",
       "      <td>0.000526</td>\n",
       "    </tr>\n",
       "    <tr>\n",
       "      <th>...</th>\n",
       "      <td>...</td>\n",
       "      <td>...</td>\n",
       "      <td>...</td>\n",
       "    </tr>\n",
       "    <tr>\n",
       "      <th>22452771</th>\n",
       "      <td>chrX_99976238_99976738</td>\n",
       "      <td>chrX_99974318_99974818</td>\n",
       "      <td>-0.002235</td>\n",
       "    </tr>\n",
       "    <tr>\n",
       "      <th>22452772</th>\n",
       "      <td>chrX_99976238_99976738</td>\n",
       "      <td>chrX_99975210_99975710</td>\n",
       "      <td>-0.030297</td>\n",
       "    </tr>\n",
       "    <tr>\n",
       "      <th>22452774</th>\n",
       "      <td>chrX_99976238_99976738</td>\n",
       "      <td>chrX_100078706_100079206</td>\n",
       "      <td>-0.003441</td>\n",
       "    </tr>\n",
       "    <tr>\n",
       "      <th>22452775</th>\n",
       "      <td>chrX_99976238_99976738</td>\n",
       "      <td>chrX_100117571_100118071</td>\n",
       "      <td>-0.002384</td>\n",
       "    </tr>\n",
       "    <tr>\n",
       "      <th>22452776</th>\n",
       "      <td>chrX_99976238_99976738</td>\n",
       "      <td>chrX_100118235_100118735</td>\n",
       "      <td>-0.004655</td>\n",
       "    </tr>\n",
       "  </tbody>\n",
       "</table>\n",
       "<p>22250422 rows × 3 columns</p>\n",
       "</div>"
      ],
      "text/plain": [
       "                              Peak1                     Peak2  coaccess\n",
       "1         chr10_100014083_100014583   chr10_99759099_99759599  0.000000\n",
       "2         chr10_100014083_100014583   chr10_99824387_99824887 -0.029619\n",
       "3         chr10_100014083_100014583   chr10_99841329_99841829  0.000000\n",
       "4         chr10_100014083_100014583   chr10_99875647_99876147  0.000000\n",
       "5         chr10_100014083_100014583   chr10_99882667_99883167  0.000526\n",
       "...                             ...                       ...       ...\n",
       "22452771     chrX_99976238_99976738    chrX_99974318_99974818 -0.002235\n",
       "22452772     chrX_99976238_99976738    chrX_99975210_99975710 -0.030297\n",
       "22452774     chrX_99976238_99976738  chrX_100078706_100079206 -0.003441\n",
       "22452775     chrX_99976238_99976738  chrX_100117571_100118071 -0.002384\n",
       "22452776     chrX_99976238_99976738  chrX_100118235_100118735 -0.004655\n",
       "\n",
       "[22250422 rows x 3 columns]"
      ]
     },
     "execution_count": 12,
     "metadata": {},
     "output_type": "execute_result"
    }
   ],
   "source": [
    "cicero_connections = pd.read_csv(f\"./data/base_grn_outputs/{timepoint}/{wt_or_ko}_cicero_connections.csv\", index_col=0)\n",
    "cicero_connections"
   ]
  },
  {
   "cell_type": "markdown",
   "id": "e01452a6-3b6c-4c86-9cbc-976d5d60c749",
   "metadata": {},
   "source": [
    "### 3. Annotate transcription start sites\n",
    "\n",
    "Use mm10 reference genome by setting ref_genome=\"mm10\"."
   ]
  },
  {
   "cell_type": "code",
   "execution_count": 28,
   "id": "9a046534-28e9-4813-85a4-d401e04139e6",
   "metadata": {
    "tags": []
   },
   "outputs": [
    {
     "data": {
      "text/html": [
       "<div>\n",
       "<style scoped>\n",
       "    .dataframe tbody tr th:only-of-type {\n",
       "        vertical-align: middle;\n",
       "    }\n",
       "\n",
       "    .dataframe tbody tr th {\n",
       "        vertical-align: top;\n",
       "    }\n",
       "\n",
       "    .dataframe thead th {\n",
       "        text-align: right;\n",
       "    }\n",
       "</style>\n",
       "<table border=\"1\" class=\"dataframe\">\n",
       "  <thead>\n",
       "    <tr style=\"text-align: right;\">\n",
       "      <th></th>\n",
       "      <th>species</th>\n",
       "      <th>ref_genome</th>\n",
       "      <th>provider</th>\n",
       "    </tr>\n",
       "  </thead>\n",
       "  <tbody>\n",
       "    <tr>\n",
       "      <th>0</th>\n",
       "      <td>Human</td>\n",
       "      <td>hg38</td>\n",
       "      <td>UCSC</td>\n",
       "    </tr>\n",
       "    <tr>\n",
       "      <th>1</th>\n",
       "      <td>Human</td>\n",
       "      <td>hg19</td>\n",
       "      <td>UCSC</td>\n",
       "    </tr>\n",
       "    <tr>\n",
       "      <th>2</th>\n",
       "      <td>Mouse</td>\n",
       "      <td>mm39</td>\n",
       "      <td>UCSC</td>\n",
       "    </tr>\n",
       "    <tr>\n",
       "      <th>3</th>\n",
       "      <td>Mouse</td>\n",
       "      <td>mm10</td>\n",
       "      <td>UCSC</td>\n",
       "    </tr>\n",
       "    <tr>\n",
       "      <th>4</th>\n",
       "      <td>Mouse</td>\n",
       "      <td>mm9</td>\n",
       "      <td>UCSC</td>\n",
       "    </tr>\n",
       "    <tr>\n",
       "      <th>5</th>\n",
       "      <td>S.cerevisiae</td>\n",
       "      <td>sacCer2</td>\n",
       "      <td>UCSC</td>\n",
       "    </tr>\n",
       "    <tr>\n",
       "      <th>6</th>\n",
       "      <td>S.cerevisiae</td>\n",
       "      <td>sacCer3</td>\n",
       "      <td>UCSC</td>\n",
       "    </tr>\n",
       "    <tr>\n",
       "      <th>7</th>\n",
       "      <td>Zebrafish</td>\n",
       "      <td>danRer7</td>\n",
       "      <td>UCSC</td>\n",
       "    </tr>\n",
       "    <tr>\n",
       "      <th>8</th>\n",
       "      <td>Zebrafish</td>\n",
       "      <td>danRer10</td>\n",
       "      <td>UCSC</td>\n",
       "    </tr>\n",
       "    <tr>\n",
       "      <th>9</th>\n",
       "      <td>Zebrafish</td>\n",
       "      <td>danRer11</td>\n",
       "      <td>UCSC</td>\n",
       "    </tr>\n",
       "    <tr>\n",
       "      <th>10</th>\n",
       "      <td>Xenopus tropicalis</td>\n",
       "      <td>xenTro2</td>\n",
       "      <td>UCSC</td>\n",
       "    </tr>\n",
       "    <tr>\n",
       "      <th>11</th>\n",
       "      <td>Xenopus tropicalis</td>\n",
       "      <td>xenTro3</td>\n",
       "      <td>UCSC</td>\n",
       "    </tr>\n",
       "    <tr>\n",
       "      <th>12</th>\n",
       "      <td>Xenopus laevis</td>\n",
       "      <td>Xenopus_laevis_v10.1</td>\n",
       "      <td>NCBI</td>\n",
       "    </tr>\n",
       "    <tr>\n",
       "      <th>13</th>\n",
       "      <td>Rat</td>\n",
       "      <td>rn4</td>\n",
       "      <td>UCSC</td>\n",
       "    </tr>\n",
       "    <tr>\n",
       "      <th>14</th>\n",
       "      <td>Rat</td>\n",
       "      <td>rn5</td>\n",
       "      <td>UCSC</td>\n",
       "    </tr>\n",
       "    <tr>\n",
       "      <th>15</th>\n",
       "      <td>Rat</td>\n",
       "      <td>rn6</td>\n",
       "      <td>UCSC</td>\n",
       "    </tr>\n",
       "    <tr>\n",
       "      <th>16</th>\n",
       "      <td>Drosophila</td>\n",
       "      <td>dm3</td>\n",
       "      <td>UCSC</td>\n",
       "    </tr>\n",
       "    <tr>\n",
       "      <th>17</th>\n",
       "      <td>Drosophila</td>\n",
       "      <td>dm6</td>\n",
       "      <td>UCSC</td>\n",
       "    </tr>\n",
       "    <tr>\n",
       "      <th>18</th>\n",
       "      <td>C.elegans</td>\n",
       "      <td>ce6</td>\n",
       "      <td>UCSC</td>\n",
       "    </tr>\n",
       "    <tr>\n",
       "      <th>19</th>\n",
       "      <td>C.elegans</td>\n",
       "      <td>ce10</td>\n",
       "      <td>UCSC</td>\n",
       "    </tr>\n",
       "    <tr>\n",
       "      <th>20</th>\n",
       "      <td>Arabidopsis</td>\n",
       "      <td>TAIR10</td>\n",
       "      <td>Ensembl</td>\n",
       "    </tr>\n",
       "    <tr>\n",
       "      <th>21</th>\n",
       "      <td>Chicken</td>\n",
       "      <td>galGal4</td>\n",
       "      <td>UCSC</td>\n",
       "    </tr>\n",
       "    <tr>\n",
       "      <th>22</th>\n",
       "      <td>Chicken</td>\n",
       "      <td>galGal5</td>\n",
       "      <td>UCSC</td>\n",
       "    </tr>\n",
       "    <tr>\n",
       "      <th>23</th>\n",
       "      <td>Chicken</td>\n",
       "      <td>galGal6</td>\n",
       "      <td>UCSC</td>\n",
       "    </tr>\n",
       "    <tr>\n",
       "      <th>24</th>\n",
       "      <td>Guinea_Pig</td>\n",
       "      <td>Cavpor3.0</td>\n",
       "      <td>Ensembl</td>\n",
       "    </tr>\n",
       "    <tr>\n",
       "      <th>25</th>\n",
       "      <td>Pig</td>\n",
       "      <td>Sscrofa11.1</td>\n",
       "      <td>Ensembl</td>\n",
       "    </tr>\n",
       "    <tr>\n",
       "      <th>26</th>\n",
       "      <td>Axolotl</td>\n",
       "      <td>AmexG_v6.0-DD</td>\n",
       "      <td>Axolotl-omics.org</td>\n",
       "    </tr>\n",
       "  </tbody>\n",
       "</table>\n",
       "</div>"
      ],
      "text/plain": [
       "               species            ref_genome           provider\n",
       "0                Human                  hg38               UCSC\n",
       "1                Human                  hg19               UCSC\n",
       "2                Mouse                  mm39               UCSC\n",
       "3                Mouse                  mm10               UCSC\n",
       "4                Mouse                   mm9               UCSC\n",
       "5         S.cerevisiae               sacCer2               UCSC\n",
       "6         S.cerevisiae               sacCer3               UCSC\n",
       "7            Zebrafish               danRer7               UCSC\n",
       "8            Zebrafish              danRer10               UCSC\n",
       "9            Zebrafish              danRer11               UCSC\n",
       "10  Xenopus tropicalis               xenTro2               UCSC\n",
       "11  Xenopus tropicalis               xenTro3               UCSC\n",
       "12      Xenopus laevis  Xenopus_laevis_v10.1               NCBI\n",
       "13                 Rat                   rn4               UCSC\n",
       "14                 Rat                   rn5               UCSC\n",
       "15                 Rat                   rn6               UCSC\n",
       "16          Drosophila                   dm3               UCSC\n",
       "17          Drosophila                   dm6               UCSC\n",
       "18           C.elegans                   ce6               UCSC\n",
       "19           C.elegans                  ce10               UCSC\n",
       "20         Arabidopsis                TAIR10            Ensembl\n",
       "21             Chicken               galGal4               UCSC\n",
       "22             Chicken               galGal5               UCSC\n",
       "23             Chicken               galGal6               UCSC\n",
       "24          Guinea_Pig             Cavpor3.0            Ensembl\n",
       "25                 Pig           Sscrofa11.1            Ensembl\n",
       "26             Axolotl         AmexG_v6.0-DD  Axolotl-omics.org"
      ]
     },
     "execution_count": 28,
     "metadata": {},
     "output_type": "execute_result"
    }
   ],
   "source": [
    "ma.SUPPORTED_REF_GENOME"
   ]
  },
  {
   "cell_type": "code",
   "execution_count": 29,
   "id": "3010f209-87d1-4b0e-af01-320a01aac821",
   "metadata": {
    "tags": []
   },
   "outputs": [
    {
     "name": "stdout",
     "output_type": "stream",
     "text": [
      "que bed peaks: 195967\n",
      "tss peaks in que: 27046\n"
     ]
    }
   ],
   "source": [
    "# There seems to be an error in the exporting of peaks from cicero, where 'chr19_24999500_25000000' was saved as 'chr19_24999500_2.5e+07', which causes an error\n",
    "if timepoint == \"E75\":\n",
    "    peaks[132381] = 'chr19_24999500_25000000'\n",
    "\n",
    "tss_annotated = ma.get_tss_info(peak_str_list=peaks, ref_genome=\"mm10\")"
   ]
  },
  {
   "cell_type": "markdown",
   "id": "ce2e1cfd-8d1b-44c1-b9b3-f8a017c8a12e",
   "metadata": {},
   "source": [
    "The output file after the integration process has three columns: [\"peak_id\", \"gene_short_name\", \"coaccess\"].\n",
    "\n",
    "“peak_id” is either the TSS peak or the peaks that have a connection to a TSS peak.\n",
    "\n",
    "“gene_short_name” is the gene name that associated with the TSS site.\n",
    "\n",
    "“coaccess” is the coaccessibility score between the peak and a TSS peak. If the score is 1, it means that the peak is a TSS itself.\n"
   ]
  },
  {
   "cell_type": "code",
   "execution_count": 30,
   "id": "9ee52285-6f91-4d10-9246-1597acb7bbb6",
   "metadata": {
    "tags": []
   },
   "outputs": [
    {
     "data": {
      "text/html": [
       "<div>\n",
       "<style scoped>\n",
       "    .dataframe tbody tr th:only-of-type {\n",
       "        vertical-align: middle;\n",
       "    }\n",
       "\n",
       "    .dataframe tbody tr th {\n",
       "        vertical-align: top;\n",
       "    }\n",
       "\n",
       "    .dataframe thead th {\n",
       "        text-align: right;\n",
       "    }\n",
       "</style>\n",
       "<table border=\"1\" class=\"dataframe\">\n",
       "  <thead>\n",
       "    <tr style=\"text-align: right;\">\n",
       "      <th></th>\n",
       "      <th>chr</th>\n",
       "      <th>start</th>\n",
       "      <th>end</th>\n",
       "      <th>gene_short_name</th>\n",
       "      <th>strand</th>\n",
       "    </tr>\n",
       "  </thead>\n",
       "  <tbody>\n",
       "    <tr>\n",
       "      <th>27041</th>\n",
       "      <td>chr5</td>\n",
       "      <td>119199809</td>\n",
       "      <td>119200309</td>\n",
       "      <td>Gm7538</td>\n",
       "      <td>-</td>\n",
       "    </tr>\n",
       "    <tr>\n",
       "      <th>27042</th>\n",
       "      <td>chr12</td>\n",
       "      <td>100899033</td>\n",
       "      <td>100899533</td>\n",
       "      <td>Gpr68</td>\n",
       "      <td>-</td>\n",
       "    </tr>\n",
       "    <tr>\n",
       "      <th>27043</th>\n",
       "      <td>chr4</td>\n",
       "      <td>129490949</td>\n",
       "      <td>129491449</td>\n",
       "      <td>Fam229a</td>\n",
       "      <td>-</td>\n",
       "    </tr>\n",
       "    <tr>\n",
       "      <th>27044</th>\n",
       "      <td>chr4</td>\n",
       "      <td>129491513</td>\n",
       "      <td>129492013</td>\n",
       "      <td>Fam229a</td>\n",
       "      <td>-</td>\n",
       "    </tr>\n",
       "    <tr>\n",
       "      <th>27045</th>\n",
       "      <td>chr17</td>\n",
       "      <td>24473696</td>\n",
       "      <td>24474196</td>\n",
       "      <td>Bricd5</td>\n",
       "      <td>+</td>\n",
       "    </tr>\n",
       "  </tbody>\n",
       "</table>\n",
       "</div>"
      ],
      "text/plain": [
       "         chr      start        end gene_short_name strand\n",
       "27041   chr5  119199809  119200309          Gm7538      -\n",
       "27042  chr12  100899033  100899533           Gpr68      -\n",
       "27043   chr4  129490949  129491449         Fam229a      -\n",
       "27044   chr4  129491513  129492013         Fam229a      -\n",
       "27045  chr17   24473696   24474196          Bricd5      +"
      ]
     },
     "execution_count": 30,
     "metadata": {},
     "output_type": "execute_result"
    }
   ],
   "source": [
    "tss_annotated.tail()"
   ]
  },
  {
   "cell_type": "markdown",
   "id": "798a8681-0d77-4cde-9043-d8a2b6d3273f",
   "metadata": {},
   "source": [
    "### 4. Integrate TSS info and cicero connections\n",
    "The output file after the integration process has three columns: [\"peak_id\", \"gene_short_name\", \"coaccess\"].\n",
    "\n",
    "“peak_id” is either the TSS peak or the peaks that have a connection to a TSS peak.\n",
    "\n",
    "“gene_short_name” is the gene name that associated with the TSS site.\n",
    "\n",
    "“coaccess” is the coaccessibility score between the peak and a TSS peak. If the score is 1, it means that the peak is a TSS itself."
   ]
  },
  {
   "cell_type": "code",
   "execution_count": 31,
   "id": "83a6a393-b63e-4188-bc2d-eceb2dd43ba8",
   "metadata": {
    "tags": []
   },
   "outputs": [
    {
     "name": "stdout",
     "output_type": "stream",
     "text": [
      "(913807, 3)\n"
     ]
    },
    {
     "data": {
      "text/html": [
       "<div>\n",
       "<style scoped>\n",
       "    .dataframe tbody tr th:only-of-type {\n",
       "        vertical-align: middle;\n",
       "    }\n",
       "\n",
       "    .dataframe tbody tr th {\n",
       "        vertical-align: top;\n",
       "    }\n",
       "\n",
       "    .dataframe thead th {\n",
       "        text-align: right;\n",
       "    }\n",
       "</style>\n",
       "<table border=\"1\" class=\"dataframe\">\n",
       "  <thead>\n",
       "    <tr style=\"text-align: right;\">\n",
       "      <th></th>\n",
       "      <th>peak_id</th>\n",
       "      <th>gene_short_name</th>\n",
       "      <th>coaccess</th>\n",
       "    </tr>\n",
       "  </thead>\n",
       "  <tbody>\n",
       "    <tr>\n",
       "      <th>0</th>\n",
       "      <td>chr10_100015519_100016019</td>\n",
       "      <td>Cep290</td>\n",
       "      <td>0.004798</td>\n",
       "    </tr>\n",
       "    <tr>\n",
       "      <th>1</th>\n",
       "      <td>chr10_100015519_100016019</td>\n",
       "      <td>Kitl</td>\n",
       "      <td>1.000000</td>\n",
       "    </tr>\n",
       "    <tr>\n",
       "      <th>2</th>\n",
       "      <td>chr10_100015519_100016019</td>\n",
       "      <td>Tmtc3</td>\n",
       "      <td>0.056487</td>\n",
       "    </tr>\n",
       "    <tr>\n",
       "      <th>3</th>\n",
       "      <td>chr10_100016022_100016522</td>\n",
       "      <td>Cep290</td>\n",
       "      <td>0.008218</td>\n",
       "    </tr>\n",
       "    <tr>\n",
       "      <th>4</th>\n",
       "      <td>chr10_100016022_100016522</td>\n",
       "      <td>Kitl</td>\n",
       "      <td>0.285638</td>\n",
       "    </tr>\n",
       "  </tbody>\n",
       "</table>\n",
       "</div>"
      ],
      "text/plain": [
       "                     peak_id gene_short_name  coaccess\n",
       "0  chr10_100015519_100016019          Cep290  0.004798\n",
       "1  chr10_100015519_100016019            Kitl  1.000000\n",
       "2  chr10_100015519_100016019           Tmtc3  0.056487\n",
       "3  chr10_100016022_100016522          Cep290  0.008218\n",
       "4  chr10_100016022_100016522            Kitl  0.285638"
      ]
     },
     "execution_count": 31,
     "metadata": {},
     "output_type": "execute_result"
    }
   ],
   "source": [
    "integrated = ma.integrate_tss_peak_with_cicero(tss_peak=tss_annotated,\n",
    "                                               cicero_connections=cicero_connections)\n",
    "print(integrated.shape)\n",
    "integrated.head()"
   ]
  },
  {
   "cell_type": "markdown",
   "id": "5655f3c8-409c-42dd-b6c7-49bc15b47d47",
   "metadata": {},
   "source": [
    "### 5. Filter peaks\n",
    "Remove peaks with weak coaccessibility scores."
   ]
  },
  {
   "cell_type": "code",
   "execution_count": 32,
   "id": "287fe3b3-00fe-4029-a940-90ad1b006882",
   "metadata": {
    "tags": []
   },
   "outputs": [],
   "source": [
    "peak = integrated[integrated.coaccess >= 0.8]\n",
    "peak = peak[[\"peak_id\", \"gene_short_name\"]].reset_index(drop=True)"
   ]
  },
  {
   "cell_type": "code",
   "execution_count": 33,
   "id": "d60afa5c-8e86-4218-a7a4-65f87df371f6",
   "metadata": {
    "tags": []
   },
   "outputs": [
    {
     "name": "stdout",
     "output_type": "stream",
     "text": [
      "(25922, 2)\n"
     ]
    },
    {
     "data": {
      "text/html": [
       "<div>\n",
       "<style scoped>\n",
       "    .dataframe tbody tr th:only-of-type {\n",
       "        vertical-align: middle;\n",
       "    }\n",
       "\n",
       "    .dataframe tbody tr th {\n",
       "        vertical-align: top;\n",
       "    }\n",
       "\n",
       "    .dataframe thead th {\n",
       "        text-align: right;\n",
       "    }\n",
       "</style>\n",
       "<table border=\"1\" class=\"dataframe\">\n",
       "  <thead>\n",
       "    <tr style=\"text-align: right;\">\n",
       "      <th></th>\n",
       "      <th>peak_id</th>\n",
       "      <th>gene_short_name</th>\n",
       "    </tr>\n",
       "  </thead>\n",
       "  <tbody>\n",
       "    <tr>\n",
       "      <th>0</th>\n",
       "      <td>chr10_100015519_100016019</td>\n",
       "      <td>Kitl</td>\n",
       "    </tr>\n",
       "    <tr>\n",
       "      <th>1</th>\n",
       "      <td>chr10_100487279_100487779</td>\n",
       "      <td>Tmtc3</td>\n",
       "    </tr>\n",
       "    <tr>\n",
       "      <th>2</th>\n",
       "      <td>chr10_100487943_100488443</td>\n",
       "      <td>Cep290</td>\n",
       "    </tr>\n",
       "    <tr>\n",
       "      <th>3</th>\n",
       "      <td>chr10_100487943_100488443</td>\n",
       "      <td>Tmtc3</td>\n",
       "    </tr>\n",
       "    <tr>\n",
       "      <th>4</th>\n",
       "      <td>chr10_100589013_100589513</td>\n",
       "      <td>4930430F08Rik</td>\n",
       "    </tr>\n",
       "  </tbody>\n",
       "</table>\n",
       "</div>"
      ],
      "text/plain": [
       "                     peak_id gene_short_name\n",
       "0  chr10_100015519_100016019            Kitl\n",
       "1  chr10_100487279_100487779           Tmtc3\n",
       "2  chr10_100487943_100488443          Cep290\n",
       "3  chr10_100487943_100488443           Tmtc3\n",
       "4  chr10_100589013_100589513   4930430F08Rik"
      ]
     },
     "execution_count": 33,
     "metadata": {},
     "output_type": "execute_result"
    }
   ],
   "source": [
    "print(peak.shape)\n",
    "peak.head()"
   ]
  },
  {
   "cell_type": "markdown",
   "id": "10293bff-990c-4fc8-9b05-312465f0d936",
   "metadata": {},
   "source": [
    "### 6. Save data\n",
    "Save the promoter/enhancer peaks."
   ]
  },
  {
   "cell_type": "code",
   "execution_count": 34,
   "id": "6c5406b1-7a31-4e76-9c87-a18fd4772a2d",
   "metadata": {
    "tags": []
   },
   "outputs": [],
   "source": [
    "peak.to_csv(f\"./data/base_grn_outputs/{timepoint}/{wt_or_ko}_processed_peak_file.csv\")"
   ]
  }
 ],
 "metadata": {
  "kernelspec": {
   "display_name": "celloracle_env",
   "language": "python",
   "name": "celloracle_env"
  },
  "language_info": {
   "codemirror_mode": {
    "name": "ipython",
    "version": 3
   },
   "file_extension": ".py",
   "mimetype": "text/x-python",
   "name": "python",
   "nbconvert_exporter": "python",
   "pygments_lexer": "ipython3",
   "version": "3.8.18"
  }
 },
 "nbformat": 4,
 "nbformat_minor": 5
}
