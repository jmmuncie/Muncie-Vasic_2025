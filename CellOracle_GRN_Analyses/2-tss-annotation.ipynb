{
 "cells": [
  {
   "cell_type": "markdown",
   "id": "18630f2d-9cdc-4114-bc42-bcbcbeda5516",
   "metadata": {},
   "source": [
    "# Annotate TSS\n",
    "\n",
    "Before building the base GRN, we need to annotate the coaccessible peaks and filter our active promoter/enhancer elements. First, we will identify the peaks around transcription starting sites (TSS). We will then merge the Cicero data with the TSS peak information and filter any peaks with weak connections to the TSS peaks. As such, the filtered peak data will only include TSS peaks and peaks with strong TSS connections. These will be our active promoter/enhancer elements for our base GRN.\n",
    "\n",
    "\n",
    "Most of this code is from the CellOracle tutorial: https://morris-lab.github.io/CellOracle.documentation/notebooks/01_ATAC-seq_data_processing/option1_scATAC-seq_data_analysis_with_cicero/02_preprocess_peak_data.html\n",
    "\n",
    "### 1. Import libraries"
   ]
  },
  {
   "cell_type": "code",
   "execution_count": null,
   "id": "248c902e-af6f-4b72-8d85-4c10ab69e81e",
   "metadata": {
    "tags": []
   },
   "outputs": [],
   "source": [
    "import pandas as pd\n",
    "import numpy as np\n",
    "import matplotlib.pyplot as plt\n",
    "%matplotlib inline\n",
    "\n",
    "import seaborn as sns\n",
    "\n",
    "\n",
    "import os, sys, shutil, importlib, glob\n",
    "from tqdm.notebook import tqdm\n",
    "\n",
    "%config InlineBackend.figure_format = 'retina'\n",
    "\n",
    "plt.rcParams['figure.figsize'] = [6, 4.5]\n",
    "plt.rcParams[\"savefig.dpi\"] = 300"
   ]
  },
  {
   "cell_type": "code",
   "execution_count": null,
   "id": "ab273ba7-240d-4280-81e7-94181eed500f",
   "metadata": {
    "tags": []
   },
   "outputs": [],
   "source": [
    "import warnings\n",
    "warnings.filterwarnings('ignore')\n",
    "from celloracle import motif_analysis as ma\n",
    "import celloracle as co\n",
    "co.__version__"
   ]
  },
  {
   "cell_type": "markdown",
   "id": "2fd14385-fdd7-4fcc-b92e-17d29b9a514d",
   "metadata": {},
   "source": [
    "### 2. Load scATAC peak data and peak connection data made with Cicero\n",
    "\n",
    "In this notebook, we will annotate and filter output from Cicero. Refer to data output from `make-cicero.R`.\n",
    "\n",
    "Here, I will use either the pan-cardiac cicero connections, or cluster-by-cluster connections.\n",
    "\n",
    "Below, I load the peaks and cicero CSV files. You'll do this for each timepoint and both WT/KO conditions."
   ]
  },
  {
   "cell_type": "code",
   "execution_count": null,
   "id": "2ac5dec9-def3-48be-b1ff-0a07a8389c74",
   "metadata": {
    "tags": []
   },
   "outputs": [],
   "source": [
    "timepoint = \"E9\"\n",
    "wt_or_ko = \"WT\"\n",
    "peaks = pd.read_csv(f\"./data/base_grn_outputs/{timepoint}/{wt_or_ko}_peaks.csv\", index_col=0)\n",
    "peaks = peaks.x.values\n",
    "peaks"
   ]
  },
  {
   "cell_type": "code",
   "execution_count": null,
   "id": "59a1ecac-2f27-4cc7-ba3a-12cf20194bc9",
   "metadata": {
    "tags": []
   },
   "outputs": [],
   "source": [
    "cicero_connections = pd.read_csv(f\"./data/base_grn_outputs/{timepoint}/{wt_or_ko}_cicero_connections.csv\", index_col=0)\n",
    "cicero_connections"
   ]
  },
  {
   "cell_type": "markdown",
   "id": "e01452a6-3b6c-4c86-9cbc-976d5d60c749",
   "metadata": {},
   "source": [
    "### 3. Annotate transcription start sites\n",
    "\n",
    "Use mm10 reference genome by setting ref_genome=\"mm10\"."
   ]
  },
  {
   "cell_type": "code",
   "execution_count": null,
   "id": "9a046534-28e9-4813-85a4-d401e04139e6",
   "metadata": {
    "tags": []
   },
   "outputs": [],
   "source": [
    "ma.SUPPORTED_REF_GENOME"
   ]
  },
  {
   "cell_type": "code",
   "execution_count": null,
   "id": "3010f209-87d1-4b0e-af01-320a01aac821",
   "metadata": {
    "tags": []
   },
   "outputs": [],
   "source": [
    "# There seems to be an error in the exporting of peaks from cicero, where 'chr19_24999500_25000000' was saved as 'chr19_24999500_2.5e+07', which causes an error\n",
    "if timepoint == \"E75\":\n",
    "    peaks[132381] = 'chr19_24999500_25000000'\n",
    "\n",
    "tss_annotated = ma.get_tss_info(peak_str_list=peaks, ref_genome=\"mm10\")"
   ]
  },
  {
   "cell_type": "markdown",
   "id": "ce2e1cfd-8d1b-44c1-b9b3-f8a017c8a12e",
   "metadata": {},
   "source": [
    "The output file after the integration process has three columns: [\"peak_id\", \"gene_short_name\", \"coaccess\"].\n",
    "\n",
    "“peak_id” is either the TSS peak or the peaks that have a connection to a TSS peak.\n",
    "\n",
    "“gene_short_name” is the gene name that associated with the TSS site.\n",
    "\n",
    "“coaccess” is the coaccessibility score between the peak and a TSS peak. If the score is 1, it means that the peak is a TSS itself.\n"
   ]
  },
  {
   "cell_type": "code",
   "execution_count": null,
   "id": "9ee52285-6f91-4d10-9246-1597acb7bbb6",
   "metadata": {
    "tags": []
   },
   "outputs": [],
   "source": [
    "tss_annotated.tail()"
   ]
  },
  {
   "cell_type": "markdown",
   "id": "798a8681-0d77-4cde-9043-d8a2b6d3273f",
   "metadata": {},
   "source": [
    "### 4. Integrate TSS info and cicero connections\n",
    "The output file after the integration process has three columns: [\"peak_id\", \"gene_short_name\", \"coaccess\"].\n",
    "\n",
    "“peak_id” is either the TSS peak or the peaks that have a connection to a TSS peak.\n",
    "\n",
    "“gene_short_name” is the gene name that associated with the TSS site.\n",
    "\n",
    "“coaccess” is the coaccessibility score between the peak and a TSS peak. If the score is 1, it means that the peak is a TSS itself."
   ]
  },
  {
   "cell_type": "code",
   "execution_count": null,
   "id": "83a6a393-b63e-4188-bc2d-eceb2dd43ba8",
   "metadata": {
    "tags": []
   },
   "outputs": [],
   "source": [
    "integrated = ma.integrate_tss_peak_with_cicero(tss_peak=tss_annotated,\n",
    "                                               cicero_connections=cicero_connections)\n",
    "print(integrated.shape)\n",
    "integrated.head()"
   ]
  },
  {
   "cell_type": "markdown",
   "id": "5655f3c8-409c-42dd-b6c7-49bc15b47d47",
   "metadata": {},
   "source": [
    "### 5. Filter peaks\n",
    "Remove peaks with weak coaccessibility scores."
   ]
  },
  {
   "cell_type": "code",
   "execution_count": null,
   "id": "287fe3b3-00fe-4029-a940-90ad1b006882",
   "metadata": {
    "tags": []
   },
   "outputs": [],
   "source": [
    "peak = integrated[integrated.coaccess >= 0.8]\n",
    "peak = peak[[\"peak_id\", \"gene_short_name\"]].reset_index(drop=True)"
   ]
  },
  {
   "cell_type": "code",
   "execution_count": null,
   "id": "d60afa5c-8e86-4218-a7a4-65f87df371f6",
   "metadata": {
    "tags": []
   },
   "outputs": [],
   "source": [
    "print(peak.shape)\n",
    "peak.head()"
   ]
  },
  {
   "cell_type": "markdown",
   "id": "10293bff-990c-4fc8-9b05-312465f0d936",
   "metadata": {},
   "source": [
    "### 6. Save data\n",
    "Save the promoter/enhancer peaks."
   ]
  },
  {
   "cell_type": "code",
   "execution_count": null,
   "id": "6c5406b1-7a31-4e76-9c87-a18fd4772a2d",
   "metadata": {
    "tags": []
   },
   "outputs": [],
   "source": [
    "peak.to_csv(f\"./data/base_grn_outputs/{timepoint}/{wt_or_ko}_processed_peak_file.csv\")"
   ]
  }
 ],
 "metadata": {
  "kernelspec": {
   "display_name": "celloracle_env",
   "language": "python",
   "name": "celloracle_env"
  },
  "language_info": {
   "codemirror_mode": {
    "name": "ipython",
    "version": 3
   },
   "file_extension": ".py",
   "mimetype": "text/x-python",
   "name": "python",
   "nbconvert_exporter": "python",
   "pygments_lexer": "ipython3",
   "version": "3.8.18"
  }
 },
 "nbformat": 4,
 "nbformat_minor": 5
}
