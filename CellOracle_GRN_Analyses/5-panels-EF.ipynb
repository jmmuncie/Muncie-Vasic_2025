{
 "cells": [
  {
   "cell_type": "markdown",
   "id": "b3f36f28-2b85-46bb-ba3b-933f6ce8ad4a",
   "metadata": {},
   "source": [
    "# Figure 6, Panels E and F"
   ]
  },
  {
   "cell_type": "code",
   "execution_count": null,
   "id": "bcc762fe-ae9c-4c3b-add5-d5d07db16ced",
   "metadata": {
    "tags": []
   },
   "outputs": [],
   "source": [
    "# 0. Import\n",
    "import os\n",
    "import sys\n",
    "\n",
    "import matplotlib.pyplot as plt\n",
    "from matplotlib_venn import venn3, venn2\n",
    "import numpy as np\n",
    "import pandas as pd\n",
    "import scanpy as sc\n",
    "import seaborn as sns\n",
    "\n",
    "from scipy.io import mmread\n",
    "from scipy.sparse import csr_matrix"
   ]
  },
  {
   "cell_type": "code",
   "execution_count": null,
   "id": "19b9d6ec-967f-4cbb-8e2f-727942bd2a96",
   "metadata": {
    "tags": []
   },
   "outputs": [],
   "source": [
    "import warnings\n",
    "warnings.filterwarnings('ignore')\n",
    "from celloracle import motif_analysis as ma\n",
    "import celloracle as co\n",
    "co.__version__"
   ]
  },
  {
   "cell_type": "code",
   "execution_count": null,
   "id": "16c3e24d-f90f-4e7e-9e09-03d6de240eb5",
   "metadata": {
    "tags": []
   },
   "outputs": [],
   "source": [
    "# visualization settings\n",
    "%config InlineBackend.figure_format = 'retina'\n",
    "%matplotlib inline\n",
    "\n",
    "plt.rcParams['figure.figsize'] = [6, 4.5]\n",
    "plt.rcParams[\"savefig.dpi\"] = 300"
   ]
  },
  {
   "cell_type": "markdown",
   "id": "324df875-6aa9-44b9-8dcc-778f83575d2a",
   "metadata": {},
   "source": [
    "## Make 4,000-edge Gephi-compatible files\n",
    "\n",
    "Only doing this for E8.5 and E9 networks. Final hairballs made in Gephi."
   ]
  },
  {
   "cell_type": "code",
   "execution_count": null,
   "id": "7b5b5802-a955-44ce-823a-71ddacf5d55e",
   "metadata": {
    "tags": []
   },
   "outputs": [],
   "source": [
    "links_wt_e85 = co.load_hdf5(file_path=\"./data/celloracle/e85/WT_cardiac-subset-links.celloracle.links\")\n",
    "links_wt_e9 = co.load_hdf5(file_path=\"./data/celloracle/e9/WT_cardiac-subset-links.celloracle.links\")\n",
    "\n",
    "links_ko_e85 = co.load_hdf5(file_path=\"./data/celloracle/e85/KO_cardiac-subset-links.celloracle.links\")\n",
    "links_ko_e9 = co.load_hdf5(file_path=\"./data/celloracle/e9/KO_cardiac-subset-links.celloracle.links\")"
   ]
  },
  {
   "cell_type": "code",
   "execution_count": null,
   "id": "d112538d-8ff3-497d-bc21-627eb07db5ce",
   "metadata": {
    "tags": []
   },
   "outputs": [],
   "source": [
    "links_dict = {}\n",
    "\n",
    "for timepoint, wt_or_ko in [['85', 'WT'], ['85', 'KO'], ['9', 'WT'], ['9', 'KO']]:\n",
    "    links = co.load_hdf5(file_path=f\"./data/celloracle/e{timepoint}/{wt_or_ko}_cardiac-subset-links.celloracle.links\")\n",
    "\n",
    "    links.filter_links(p=0.001, weight=\"coef_abs\", threshold_number=4500)\n",
    "    filtered_df = links.filtered_links\n",
    "\n",
    "    for cluster in filtered_df.keys():\n",
    "        df = filtered_df[cluster]\n",
    "        \n",
    "        if wt_or_ko == 'KO':\n",
    "            df = df.drop(df[df['source'] == 'Mef2c'].index)\n",
    "\n",
    "        df = df.sort_values('coef_abs', ascending=False).iloc[:4000,:]\n",
    "\n",
    "        sources = df['source'].unique()\n",
    "        targets = df['target'].unique()\n",
    "\n",
    "        # Create a zero matrix\n",
    "        matrix = pd.DataFrame(np.zeros((len(sources), len(targets))), index=sources, columns=targets)\n",
    "\n",
    "        # Populate the matrix with coef_mean values\n",
    "        for index, row in df.iterrows():\n",
    "            matrix.at[row['source'], row['target']] = row['coef_mean']\n",
    "\n",
    "        matrix.to_csv(f\"./data/celloracle/e{timepoint}/{wt_or_ko}_{cluster}_gephi.csv\")"
   ]
  }
 ],
 "metadata": {
  "kernelspec": {
   "display_name": "celloracle_env",
   "language": "python",
   "name": "celloracle_env"
  },
  "language_info": {
   "codemirror_mode": {
    "name": "ipython",
    "version": 3
   },
   "file_extension": ".py",
   "mimetype": "text/x-python",
   "name": "python",
   "nbconvert_exporter": "python",
   "pygments_lexer": "ipython3",
   "version": "3.8.18"
  }
 },
 "nbformat": 4,
 "nbformat_minor": 5
}
