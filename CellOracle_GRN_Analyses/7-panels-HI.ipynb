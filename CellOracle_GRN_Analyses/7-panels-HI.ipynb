{
 "cells": [
  {
   "cell_type": "markdown",
   "id": "ceabbeb8-098d-465b-a0cf-87f329218de8",
   "metadata": {},
   "source": [
    "# Figure 6, Panels H and I – Make subnetworks"
   ]
  },
  {
   "cell_type": "code",
   "execution_count": null,
   "id": "fa72ecb9-5f33-4cbe-91b4-a0a33f4d2c4a",
   "metadata": {
    "tags": []
   },
   "outputs": [],
   "source": [
    "# 0. Import\n",
    "import os\n",
    "import sys\n",
    "\n",
    "import matplotlib.pyplot as plt\n",
    "from matplotlib_venn import venn3, venn2\n",
    "import numpy as np\n",
    "import pandas as pd\n",
    "import scanpy as sc\n",
    "import seaborn as sns\n",
    "import networkx as nx\n",
    "\n",
    "from scipy.io import mmread\n",
    "from scipy.sparse import csr_matrix"
   ]
  },
  {
   "cell_type": "code",
   "execution_count": null,
   "id": "6d8cc065-c2db-43b8-9cb9-31e638618ca5",
   "metadata": {
    "tags": []
   },
   "outputs": [],
   "source": [
    "import warnings\n",
    "warnings.filterwarnings('ignore')\n",
    "from celloracle import motif_analysis as ma\n",
    "import celloracle as co\n",
    "co.__version__"
   ]
  },
  {
   "cell_type": "code",
   "execution_count": null,
   "id": "907e5ca0-3181-4718-913d-f81e75e1507b",
   "metadata": {
    "tags": []
   },
   "outputs": [],
   "source": [
    "# visualization settings\n",
    "%config InlineBackend.figure_format = 'retina'\n",
    "%matplotlib inline\n",
    "\n",
    "plt.rcParams['figure.figsize'] = [6, 4.5]\n",
    "plt.rcParams[\"savefig.dpi\"] = 300"
   ]
  },
  {
   "cell_type": "markdown",
   "id": "cf9ae74e-1a6b-4349-9eb1-a86e17b3bbde",
   "metadata": {},
   "source": [
    "#### Load links and remove Mef2c connections from KO"
   ]
  },
  {
   "cell_type": "code",
   "execution_count": null,
   "id": "5860c884-e069-440b-88f6-4f470a5dafbf",
   "metadata": {
    "tags": []
   },
   "outputs": [],
   "source": [
    "def remove_and_filter(links_df, genes_to_remove, num_edges):\n",
    "    for g in genes_to_remove:\n",
    "        links_df = links_df.drop(links_df[links_df.source=='Mef2c'].index)\n",
    "        links_df = links_df.drop(links_df[links_df.target=='Mef2c'].index)\n",
    "        \n",
    "    return links_df.sort_values('coef_abs', ascending=False).iloc[:num_edges]"
   ]
  },
  {
   "cell_type": "code",
   "execution_count": null,
   "id": "75c3a175-9b45-4aac-a436-ac59678d4ae4",
   "metadata": {
    "tags": []
   },
   "outputs": [],
   "source": [
    "thresh_num = 4000\n",
    "\n",
    "links_wt_e85 = co.load_hdf5(file_path=\"./data/celloracle/e85/WT_cardiac-subset-links.celloracle.links\")\n",
    "links_ko_e85 = co.load_hdf5(file_path=\"./data/celloracle/e85/KO_cardiac-subset-links.celloracle.links\")\n",
    "\n",
    "links_wt_e85.filter_links(p=0.001, weight=\"coef_abs\", threshold_number=thresh_num)\n",
    "links_ko_e85.filter_links(p=0.001, weight=\"coef_abs\", threshold_number=thresh_num+1000)\n",
    "\n",
    "links_ko_e85.filtered_links['IFT-CMs_KO'] = remove_and_filter(links_ko_e85.filtered_links['IFT-CMs_KO'], ['Mef2c'], thresh_num)"
   ]
  },
  {
   "cell_type": "code",
   "execution_count": null,
   "id": "26d49d1f-e942-4954-b798-ab05e23dbd56",
   "metadata": {
    "tags": []
   },
   "outputs": [],
   "source": [
    "def return_adata_raw(timepoint):\n",
    "    adata = sc.read_h5ad(f'data/adata_objects/{timepoint}_subset.h5ad')\n",
    "    \n",
    "    if timepoint == 'e85':\n",
    "        names = ['pSHF_WT','pSHF_KO', 'aSHF_WT', 'aSHF_KO', 'IFT-CMs_WT', 'IFT-CMs_KO', 'V-CMs_WT', \n",
    "                 'V-CMs_KO', 'OFT-CMs_WT', 'OFT-CMs_KO', 'PhM_WT', 'PhM_KO', 'LPM_WT', 'LPM_KO', \n",
    "                 'PostM_WT', 'PostM_KO', 'MixM_WT', 'MixM_KO', 'C16_WT', 'C16_KO']\n",
    "    elif timepoint == 'e9':\n",
    "        names = ['SHF_WT', 'SHF_KO', 'Pe_WT', 'Pe_KO', 'VP_WT', 'VP_KO', 'CMs-A_WT', 'CMs-A_KO', \n",
    "                        'CMs-AVC_WT', 'CMs-AVC_KO', 'CMs-V_WT', 'CMs-V_KO', 'CMs-OFT_WT', 'CMs-OFT_KO', \n",
    "                        'PhM_WT', 'PhM_KO', 'C11_WT', 'C11_KO']        \n",
    "    else:\n",
    "        return\n",
    "    \n",
    "    mapping_dict = dict(zip(range(0, len(names)), names))\n",
    "    adata.obs['celltype_x_genotype'] = adata.obs['cell_type_pool_x_genotype'].map(mapping_dict)    \n",
    "    \n",
    "    if timepoint == 'e9':\n",
    "        adata.obs.loc[adata.obs['celltype_x_genotype'] == 'CMs-AVC_WT', 'celltype_x_genotype'] = 'CMs-A_WT'\n",
    "    \n",
    "    raw_mtx = mmread(f\"./data/adata_objects/{timepoint}_matrix.mtx\")\n",
    "    raw_cells = pd.read_csv(f\"./data/adata_objects/{timepoint}_raw_cells.csv\", header=None)\n",
    "    raw_genes = pd.read_csv(f\"./data/adata_objects/{timepoint}_raw_genes.csv\", header=None)\n",
    "    x = pd.DataFrame(raw_mtx.toarray())\n",
    "    x.index = raw_genes.values.T[0]\n",
    "    \n",
    "    x = x.T\n",
    "    x.index = raw_cells.values.flatten()\n",
    "    raw_cells.index = raw_cells.values.flatten()\n",
    "    raw_genes.index = raw_genes.values.flatten()\n",
    "    \n",
    "    new_adata_raw = sc.AnnData(\n",
    "        X=x.values,  # Use the normalized and log-transformed data\n",
    "        var=raw_genes,  # Use the same genes\n",
    "        obs=raw_cells   # Use the same cells\n",
    "        )\n",
    "    \n",
    "    sc.pp.normalize_total(new_adata_raw, target_sum=1e4)\n",
    "    sc.pp.log1p(new_adata_raw)\n",
    "    adata.raw = new_adata_raw\n",
    "    return adata"
   ]
  },
  {
   "cell_type": "markdown",
   "id": "bf12fab2-9f4f-40ce-bf98-a3d1a508ef35",
   "metadata": {},
   "source": [
    "#### Set timepoint and load adata with raw readouts (req'd for DEG)"
   ]
  },
  {
   "cell_type": "code",
   "execution_count": null,
   "id": "9bec3daa-aa7f-46db-9bee-15c5ad105f42",
   "metadata": {
    "tags": []
   },
   "outputs": [],
   "source": [
    "timepoint = 'e9'\n",
    "adata = return_adata_raw(timepoint)"
   ]
  },
  {
   "cell_type": "code",
   "execution_count": null,
   "id": "9f0e2626-3c36-4265-b348-8439afdc7b9e",
   "metadata": {
    "tags": []
   },
   "outputs": [],
   "source": [
    "# Chamber is Atrial because assuming adata_E9 is your AnnData object\n",
    "chamber = 'A'\n",
    "\n",
    "# Filter the data to include only the relevant groups\n",
    "if timepoint == 'e85':\n",
    "    adata_subset = adata[adata.obs['celltype_x_genotype'].isin([f'{chamber}-CMs_KO', f'{chamber}-CMs_WT'])]\n",
    "elif timepoint == 'e9':\n",
    "    adata_subset = adata[adata.obs['celltype_x_genotype'].isin([f'CMs-{chamber}_KO', f'CMs-{chamber}_WT'])]\n",
    "else:\n",
    "    print('did not filter data')\n",
    "    \n",
    "# adata_subset.X = adata_subset.X + 8\n",
    "\n",
    "sc.tl.rank_genes_groups(adata_subset, groupby='celltype_x_genotype', method='wilcoxon')\n",
    "# sc.tl.rank_genes_groups(adata_subset, groupby='celltype_x_genotype', method='wilcoxon', use_raw=False)\n",
    "\n",
    "# Extract the results into a DataFrame\n",
    "# import pandas as pd\n",
    "if timepoint == 'e85':\n",
    "    de_results = pd.DataFrame(\n",
    "        {\n",
    "            'genes': adata_subset.uns['rank_genes_groups']['names'][f'{chamber}-CMs_KO'],\n",
    "            'logfoldchanges': adata_subset.uns['rank_genes_groups']['logfoldchanges'][f'{chamber}-CMs_KO'],\n",
    "            'pvals': adata_subset.uns['rank_genes_groups']['pvals'][f'{chamber}-CMs_KO'],\n",
    "            'pvals_adj': adata_subset.uns['rank_genes_groups']['pvals_adj'][f'{chamber}-CMs_KO']\n",
    "        }\n",
    "    )\n",
    "elif timepoint == 'e9':\n",
    "    de_results = pd.DataFrame(\n",
    "        {\n",
    "            'genes': adata_subset.uns['rank_genes_groups']['names'][f'CMs-{chamber}_KO'],\n",
    "            'logfoldchanges': adata_subset.uns['rank_genes_groups']['logfoldchanges'][f'CMs-{chamber}_KO'],\n",
    "            'pvals': adata_subset.uns['rank_genes_groups']['pvals'][f'CMs-{chamber}_KO'],\n",
    "            'pvals_adj': adata_subset.uns['rank_genes_groups']['pvals_adj'][f'CMs-{chamber}_KO']\n",
    "        }\n",
    "    )\n",
    "else:\n",
    "    print('oops2')\n",
    "    \n",
    "de_results['genes'] = de_results['genes'].apply(lambda x: x[0] if isinstance(x, tuple) else x)"
   ]
  },
  {
   "cell_type": "markdown",
   "id": "0c62047e-b917-41b6-969a-b5ff318642d6",
   "metadata": {},
   "source": [
    "## Load in the networks\n",
    "\n",
    "I have saved the CellOracle networks as .csv files. They have the following columns:\n",
    "- `source` – a transcription factor\n",
    "- `target` – the gene being targeted by the TF\n",
    "- `coef_mean` – the magnitude of activation (+) or repression (-)\n",
    "- `coef_abs` – absolute value of `coef_mean`\n",
    "- `p` – p-value\n",
    "- `-logp` – negative log p value"
   ]
  },
  {
   "cell_type": "markdown",
   "id": "50577c96-d75c-4a49-968b-1800deefa826",
   "metadata": {},
   "source": [
    "### Figures 4 – Subnetworks\n",
    "\n",
    "This is the `plot_subnetwork()` function. It will return a `networkx` network for visualization."
   ]
  },
  {
   "cell_type": "code",
   "execution_count": null,
   "id": "6694187e-ab1c-4b62-aa46-f80e6e62edeb",
   "metadata": {
    "tags": []
   },
   "outputs": [],
   "source": [
    "def plot_subnetwork(network, tf_genes, targets):\n",
    "    graph_df = {'source': [],\n",
    "                 'target': [],\n",
    "                 'weight': [],\n",
    "                 'edge_cols': []}\n",
    "    \n",
    "    for curr_gene in tf_genes:\n",
    "        curr_gene_df = network[network['source'] == curr_gene]\n",
    "        gene_df_targs = curr_gene_df[curr_gene_df['target'].isin(targets)]\n",
    "\n",
    "        for index, row in gene_df_targs.iterrows():\n",
    "            graph_df['source'].append(row['source'])\n",
    "            graph_df['target'].append(row['target'])\n",
    "            graph_df['weight'].append(row['coef_mean'])\n",
    "            if row['coef_mean'] > 0:\n",
    "                graph_df['edge_cols'].append('green')\n",
    "            else:\n",
    "                graph_df['edge_cols'].append('red')\n",
    "\n",
    "    graph_df = pd.DataFrame(graph_df)\n",
    "\n",
    "    G = nx.from_pandas_edgelist(graph_df, source='source', target='target', edge_attr='weight', create_using=nx.DiGraph())\n",
    "    \n",
    "    from pyvis.network import Network\n",
    "    net = Network(notebook=True, directed=True)\n",
    "    net.from_nx(G)\n",
    "\n",
    "    for edge in net.edges:\n",
    "        if edge['width'] > 0:\n",
    "            edge['color'] = 'grey'\n",
    "            edge['arrowStrikethrough'] = False\n",
    "        else:\n",
    "            edge['color'] = 'red'\n",
    "            edge['arrows'] = {\"to\": {\"enabled\": True, \"type\": \"bar\", \"scaleFactor\":.4}}\n",
    "\n",
    "        edge['value'] = np.abs(edge['width'])\n",
    "\n",
    "\n",
    "    for node in net.nodes:\n",
    "        if node['id'] in tf_genes:\n",
    "            node['shape'] = 'diamond'\n",
    "            node['color'] = 'grey'\n",
    "            node['size'] = 10\n",
    "            node['font'] = {'size': 40, 'color': 'black'}\n",
    "        else:\n",
    "            node['color'] = 'grey' # Black is neither\n",
    "            node['font'] = {'size': 16, 'color': 'black'}\n",
    "            node['size'] = 2\n",
    "            \n",
    "        if node['id'] in ['Gata4', 'Nr2f2']:\n",
    "            node['shape'] = 'diamond'\n",
    "            node['color'] = 'grey'\n",
    "            node['size'] = 20\n",
    "            node['font'] = {'size': 40, 'color': 'black'}\n",
    "        \n",
    "\n",
    "    G_act = nx.from_pandas_edgelist(graph_df[graph_df.weight > 0], source='source', target='target', edge_attr='weight', create_using=nx.DiGraph())\n",
    "    G_inact = nx.from_pandas_edgelist(graph_df[graph_df.weight < 0], source='source', target='target', edge_attr='weight', create_using=nx.DiGraph())\n",
    "            \n",
    "    return net, G_act, G_inact"
   ]
  },
  {
   "cell_type": "markdown",
   "id": "ee16b669-287b-4699-b282-66f1f2c75401",
   "metadata": {},
   "source": [
    "### Visualize a subnetwork\n",
    "\n",
    "Visualizing networks is very helpful, but it is difficult to make sense of the CellOracle network when observed in its entirety. I find it useful to focus in on a handfull of genes/transcription factors of interest. We have discussed starting with a few of the sarcomeric proteins that we know to be differentially expressed. \n",
    "\n",
    "Add/remove genes from the `tf_genes` and `targets` list to visualize the subnetworks of interest."
   ]
  },
  {
   "cell_type": "code",
   "execution_count": null,
   "id": "b5732d2b-2948-436d-ba6c-aa81adddca54",
   "metadata": {
    "tags": []
   },
   "outputs": [],
   "source": [
    "de_results.sort_values('pvals', ascending=True)\n",
    "de_subset = de_results[de_results.pvals <1E-7]"
   ]
  },
  {
   "cell_type": "code",
   "execution_count": null,
   "id": "ce08fb0d-a6b4-4ec9-a452-fb1e1bcaace3",
   "metadata": {
    "tags": []
   },
   "outputs": [],
   "source": [
    "tf_genes = ['Mef2a', 'Mef2c', 'Nr2f2', 'Tbx5', 'Gata4', 'Meis2', 'Plagl1',\n",
    "            'Isl1', 'Pitx2', 'Tbx20', 'Hand2', 'Nkx2-5']\n",
    "\n",
    "targets = list(de_subset.genes.values)[:100]\n",
    "\n",
    "targets += tf_genes\n",
    "\n",
    "net, G_act, G_inact = plot_subnetwork(links_wt_e85.filtered_links['IFT-CMs_WT'], tf_genes, targets)\n",
    "net.show('net.html')"
   ]
  },
  {
   "cell_type": "code",
   "execution_count": null,
   "id": "91d8b173-9d1e-4d85-9a13-a7f87f784eaf",
   "metadata": {
    "tags": []
   },
   "outputs": [],
   "source": [
    "net, G_act, G_inact = plot_subnetwork(links_ko_e85.filtered_links['IFT-CMs_KO'], tf_genes, targets)\n",
    "net.show('net.html')"
   ]
  },
  {
   "cell_type": "markdown",
   "id": "4c757c63-2045-4f9c-8d94-df72d52e04b8",
   "metadata": {},
   "source": [
    "### Panel I – Nr2f2 AND Gata4 direct connections"
   ]
  },
  {
   "cell_type": "code",
   "execution_count": null,
   "id": "1ab315ac-2050-4623-92f2-93592f685cce",
   "metadata": {},
   "outputs": [],
   "source": [
    "def get_gene_targets(tf, links_wt, links_ko):\n",
    "    wt_targets = links_wt[links_wt.sort_values('coef_mean')['source'].isin([tf])].target.unique()\n",
    "    ko_targets = links_ko[links_ko.sort_values('coef_mean')['source'].isin([tf])].target.unique()\n",
    "    \n",
    "    intersect_targets = [x for x in wt_targets if x in ko_targets]\n",
    "    \n",
    "    wt_only_targets = [x for x in wt_targets if x not in ko_targets]\n",
    "\n",
    "    ko_only_targets = [x for x in ko_targets if x not in wt_targets]\n",
    "    \n",
    "    return intersect_targets, wt_only_targets, ko_only_targets\n",
    "\n",
    "tf = 'Nr2f2'\n",
    "\n",
    "links_wt = links_wt_e85.filtered_links['IFT-CMs_WT']\n",
    "links_ko = links_ko_e85.filtered_links['IFT-CMs_KO']\n",
    "\n",
    "intersect_targets, wt_targets, ko_targets = get_gene_targets(tf, links_wt, links_ko)"
   ]
  },
  {
   "cell_type": "code",
   "execution_count": null,
   "id": "ee00b8cb-8084-4d22-8b7e-7c7eab3c40a9",
   "metadata": {
    "tags": []
   },
   "outputs": [],
   "source": [
    "import networkx as nx\n",
    "import numpy as np\n",
    "import math\n",
    "import matplotlib\n",
    "\n",
    "matplotlib.rcParams['pdf.fonttype'] = 42\n",
    "matplotlib.rcParams['ps.fonttype'] = 42\n",
    "\n",
    "matplotlib.rc('font', family='Arial')\n",
    "fig, ax = plt.subplots(figsize=(16, 16))\n",
    "\n",
    "all_nodes = wt_targets + intersect_targets +  ko_targets\n",
    "\n",
    "G_act = nx.DiGraph()\n",
    "G_act.add_nodes_from(all_nodes)\n",
    "G_inhib = nx.DiGraph()\n",
    "G_inhib.add_nodes_from(all_nodes)\n",
    "\n",
    "pos = nx.circular_layout(G_act.subgraph(all_nodes))\n",
    "\n",
    "G_act.add_node(tf)\n",
    "G_inhib.add_node(tf)\n",
    "\n",
    "tf_links = links_wt[links_wt.source == tf]\n",
    "tf_links = links_ko[links_ko.source == tf]\n",
    "    \n",
    "for x in tf_links.target:\n",
    "    connection = tf_links[tf_links.target == x]\n",
    "    if connection.coef_mean.values[0] < 0:\n",
    "        G_inhib.add_edge(tf, x, weight=connection.coef_abs.values[0]*40, color='red')\n",
    "    else:\n",
    "        G_act.add_edge(tf, x, weight=connection.coef_abs.values[0]*40, color='black')\n",
    "        \n",
    "\n",
    "for i, G in enumerate([G_act, G_inhib]):\n",
    "    edges = G.edges()\n",
    "    colors = [G[u][v]['color'] for u,v in edges]\n",
    "    weights = [G[u][v]['weight'] for u,v in edges]\n",
    "    center_node = tf\n",
    "    pos[center_node] = np.array([0, 0])\n",
    "    \n",
    "    pos_higher = nx.rescale_layout_dict(pos, 16)\n",
    "    nx.draw_networkx_labels(G, pos_higher)\n",
    "    \n",
    "    pos_lower = nx.rescale_layout_dict(pos, 13)\n",
    "    # nx.draw_networkx_nodes(G, pos, node_color=\"#005D32\")\n",
    "\n",
    "    if i == 0:\n",
    "        nx.draw_networkx_edges(G, pos_lower, width=weights, edge_color=colors, arrows=True, arrowstyle=matplotlib.patches.ArrowStyle('->', head_length=0.4, head_width=0.5))\n",
    "    else:\n",
    "        nx.draw_networkx_edges(G, pos_lower, width=weights, edge_color=colors, arrows=True, arrowstyle=matplotlib.patches.ArrowStyle('|-|', widthA=0, angleA=0, widthB=.5, angleB=0))\n",
    "\n",
    "\n",
    "pos_mid = nx.rescale_layout_dict(pos, 14)\n",
    "nx.draw_networkx_nodes(G, pos_mid, node_color=\"#ababab\")\n",
    "\n",
    "x_values, y_values = zip(*pos_higher.values())\n",
    "x_max = max(x_values)\n",
    "x_min = min(x_values)\n",
    "x_margin = (x_max - x_min) * 0.1\n",
    "plt.xlim(float(x_min - x_margin), float(x_max + x_margin))\n",
    "\n",
    "y_max = max(y_values)\n",
    "y_min = min(y_values)\n",
    "y_margin = (y_max - y_min) * 0.1\n",
    "plt.ylim(float(y_min - y_margin), float(y_max + y_margin))\n",
    "plt.savefig(f\"./data/{tf}-wt.pdf\", format='pdf')"
   ]
  },
  {
   "cell_type": "code",
   "execution_count": null,
   "id": "36405314-1146-45d2-a978-71337e78f85d",
   "metadata": {},
   "outputs": [],
   "source": []
  }
 ],
 "metadata": {
  "kernelspec": {
   "display_name": "celloracle_env",
   "language": "python",
   "name": "celloracle_env"
  },
  "language_info": {
   "codemirror_mode": {
    "name": "ipython",
    "version": 3
   },
   "file_extension": ".py",
   "mimetype": "text/x-python",
   "name": "python",
   "nbconvert_exporter": "python",
   "pygments_lexer": "ipython3",
   "version": "3.8.18"
  }
 },
 "nbformat": 4,
 "nbformat_minor": 5
}
