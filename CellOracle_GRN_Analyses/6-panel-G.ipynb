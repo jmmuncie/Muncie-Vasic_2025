{
 "cells": [
  {
   "cell_type": "markdown",
   "id": "470b273f-143a-4e75-933d-bf5cf3f64dff",
   "metadata": {},
   "source": [
    "# Figure 6, Panel G – Simulate E8.5 IFT Mef2c KD and compare to DEGs"
   ]
  },
  {
   "cell_type": "code",
   "execution_count": 6,
   "id": "f18a88db-a68a-42d3-8727-8080185a166d",
   "metadata": {
    "tags": []
   },
   "outputs": [],
   "source": [
    "# 0. Import\n",
    "import os\n",
    "import sys\n",
    "\n",
    "import matplotlib.pyplot as plt\n",
    "from matplotlib_venn import venn3, venn2\n",
    "import numpy as np\n",
    "import pandas as pd\n",
    "import scanpy as sc\n",
    "import seaborn as sns\n",
    "\n",
    "from scipy.io import mmread\n",
    "from scipy.sparse import csr_matrix"
   ]
  },
  {
   "cell_type": "code",
   "execution_count": 8,
   "id": "9905d881-32cd-420f-8eda-7a6a4a913fa0",
   "metadata": {
    "tags": []
   },
   "outputs": [
    {
     "data": {
      "text/plain": [
       "'0.14.0'"
      ]
     },
     "execution_count": 8,
     "metadata": {},
     "output_type": "execute_result"
    }
   ],
   "source": [
    "import warnings\n",
    "warnings.filterwarnings('ignore')\n",
    "from celloracle import motif_analysis as ma\n",
    "import celloracle as co\n",
    "co.__version__"
   ]
  },
  {
   "cell_type": "code",
   "execution_count": 9,
   "id": "df64a8b2-f959-448a-8dc7-02c682982d17",
   "metadata": {
    "tags": []
   },
   "outputs": [],
   "source": [
    "# visualization settings\n",
    "%config InlineBackend.figure_format = 'retina'\n",
    "%matplotlib inline\n",
    "\n",
    "plt.rcParams['figure.figsize'] = [6, 4.5]\n",
    "plt.rcParams[\"savefig.dpi\"] = 300"
   ]
  },
  {
   "cell_type": "markdown",
   "id": "6d360322-2ae1-4b90-b34e-323b9288b950",
   "metadata": {},
   "source": [
    "#### Load links and remove Mef2c connections from KO"
   ]
  },
  {
   "cell_type": "code",
   "execution_count": 11,
   "id": "bb4bf2b9-6549-4a6e-b8ca-3ecad34776cb",
   "metadata": {
    "tags": []
   },
   "outputs": [],
   "source": [
    "def remove_and_filter(links_df, genes_to_remove, num_edges):\n",
    "    for g in genes_to_remove:\n",
    "        links_df = links_df.drop(links_df[links_df.source=='Mef2c'].index)\n",
    "        links_df = links_df.drop(links_df[links_df.target=='Mef2c'].index)\n",
    "        \n",
    "    return links_df.sort_values('coef_abs', ascending=False).iloc[:num_edges]"
   ]
  },
  {
   "cell_type": "code",
   "execution_count": 31,
   "id": "8efd518d-2422-4d8b-a78e-377592e8f359",
   "metadata": {
    "tags": []
   },
   "outputs": [],
   "source": [
    "thresh_num = 4000\n",
    "\n",
    "links_wt_e85 = co.load_hdf5(file_path=\"./data/celloracle/e85/WT_cardiac-subset-links.celloracle.links\")\n",
    "links_ko_e85 = co.load_hdf5(file_path=\"./data/celloracle/e85/KO_cardiac-subset-links.celloracle.links\")\n",
    "\n",
    "links_wt_e85.filter_links(p=0.001, weight=\"coef_abs\", threshold_number=thresh_num)\n",
    "links_ko_e85.filter_links(p=0.001, weight=\"coef_abs\", threshold_number=thresh_num+1000)\n",
    "\n",
    "links_ko_e85.filtered_links['IFT-CMs_KO'] = remove_and_filter(links_ko_e85.filtered_links['IFT-CMs_KO'], ['Mef2c'], thresh_num)"
   ]
  },
  {
   "cell_type": "code",
   "execution_count": 13,
   "id": "525259a7-00d3-4113-bfeb-831f3623d587",
   "metadata": {
    "tags": []
   },
   "outputs": [],
   "source": [
    "def return_adata_raw(timepoint):\n",
    "    adata = sc.read_h5ad(f'data/adata_objects/{timepoint}_subset.h5ad')\n",
    "    \n",
    "    if timepoint == 'e85':\n",
    "        names = ['pSHF_WT','pSHF_KO', 'aSHF_WT', 'aSHF_KO', 'IFT-CMs_WT', 'IFT-CMs_KO', 'V-CMs_WT', \n",
    "                 'V-CMs_KO', 'OFT-CMs_WT', 'OFT-CMs_KO', 'PhM_WT', 'PhM_KO', 'LPM_WT', 'LPM_KO', \n",
    "                 'PostM_WT', 'PostM_KO', 'MixM_WT', 'MixM_KO', 'C16_WT', 'C16_KO']\n",
    "    elif timepoint == 'e9':\n",
    "        names = ['SHF_WT', 'SHF_KO', 'Pe_WT', 'Pe_KO', 'VP_WT', 'VP_KO', 'CMs-A_WT', 'CMs-A_KO', \n",
    "                        'CMs-AVC_WT', 'CMs-AVC_KO', 'CMs-V_WT', 'CMs-V_KO', 'CMs-OFT_WT', 'CMs-OFT_KO', \n",
    "                        'PhM_WT', 'PhM_KO', 'C11_WT', 'C11_KO']        \n",
    "    else:\n",
    "        return\n",
    "    \n",
    "    mapping_dict = dict(zip(range(0, len(names)), names))\n",
    "    adata.obs['celltype_x_genotype'] = adata.obs['cell_type_pool_x_genotype'].map(mapping_dict)    \n",
    "    \n",
    "    if timepoint == 'e9':\n",
    "        adata.obs.loc[adata.obs['celltype_x_genotype'] == 'CMs-AVC_WT', 'celltype_x_genotype'] = 'CMs-A_WT'\n",
    "    \n",
    "    raw_mtx = mmread(f\"./data/adata_objects/{timepoint}_matrix.mtx\")\n",
    "    raw_cells = pd.read_csv(f\"./data/adata_objects/{timepoint}_raw_cells.csv\", header=None)\n",
    "    raw_genes = pd.read_csv(f\"./data/adata_objects/{timepoint}_raw_genes.csv\", header=None)\n",
    "    x = pd.DataFrame(raw_mtx.toarray())\n",
    "    x.index = raw_genes.values.T[0]\n",
    "    \n",
    "    x = x.T\n",
    "    x.index = raw_cells.values.flatten()\n",
    "    raw_cells.index = raw_cells.values.flatten()\n",
    "    raw_genes.index = raw_genes.values.flatten()\n",
    "    \n",
    "    new_adata_raw = sc.AnnData(\n",
    "        X=x.values,  # Use the normalized and log-transformed data\n",
    "        var=raw_genes,  # Use the same genes\n",
    "        obs=raw_cells   # Use the same cells\n",
    "        )\n",
    "    \n",
    "    sc.pp.normalize_total(new_adata_raw, target_sum=1e4)\n",
    "    sc.pp.log1p(new_adata_raw)\n",
    "    adata.raw = new_adata_raw\n",
    "    return adata"
   ]
  },
  {
   "cell_type": "markdown",
   "id": "dc9240ab-a6ce-4535-838c-701ac4decae7",
   "metadata": {},
   "source": [
    "#### Set timepoint and load adata with raw readouts (req'd for DEG)"
   ]
  },
  {
   "cell_type": "code",
   "execution_count": 16,
   "id": "fb22f20a-de25-4997-848d-014934f35514",
   "metadata": {
    "tags": []
   },
   "outputs": [],
   "source": [
    "timepoint = 'e9'\n",
    "adata = return_adata_raw(timepoint)"
   ]
  },
  {
   "cell_type": "markdown",
   "id": "57b1a5db-0916-4285-a3cc-0161dce3156d",
   "metadata": {},
   "source": [
    "#### Calculate DEG and save results to `de_results`"
   ]
  },
  {
   "cell_type": "code",
   "execution_count": 20,
   "id": "a11cb5aa-4a5e-4305-ab6a-ea2e76e15da1",
   "metadata": {
    "tags": []
   },
   "outputs": [],
   "source": [
    "# Chamber is Atrial because assuming adata_E9 is your AnnData object\n",
    "chamber = 'A'\n",
    "\n",
    "# Filter the data to include only the relevant groups\n",
    "if timepoint == 'e85':\n",
    "    adata_subset = adata[adata.obs['celltype_x_genotype'].isin([f'{chamber}-CMs_KO', f'{chamber}-CMs_WT'])]\n",
    "elif timepoint == 'e9':\n",
    "    adata_subset = adata[adata.obs['celltype_x_genotype'].isin([f'CMs-{chamber}_KO', f'CMs-{chamber}_WT'])]\n",
    "else:\n",
    "    print('oops')\n",
    "    \n",
    "# adata_subset.X = adata_subset.X + 8\n",
    "\n",
    "sc.tl.rank_genes_groups(adata_subset, groupby='celltype_x_genotype', method='wilcoxon')\n",
    "\n",
    "# Extract the results into a DataFrame\n",
    "# import pandas as pd\n",
    "if timepoint == 'e85':\n",
    "    de_results = pd.DataFrame(\n",
    "        {\n",
    "            'genes': adata_subset.uns['rank_genes_groups']['names'][f'{chamber}-CMs_KO'],\n",
    "            'logfoldchanges': adata_subset.uns['rank_genes_groups']['logfoldchanges'][f'{chamber}-CMs_KO'],\n",
    "            'pvals': adata_subset.uns['rank_genes_groups']['pvals'][f'{chamber}-CMs_KO'],\n",
    "            'pvals_adj': adata_subset.uns['rank_genes_groups']['pvals_adj'][f'{chamber}-CMs_KO']\n",
    "        }\n",
    "    )\n",
    "elif timepoint == 'e9':\n",
    "    de_results = pd.DataFrame(\n",
    "        {\n",
    "            'genes': adata_subset.uns['rank_genes_groups']['names'][f'CMs-{chamber}_KO'],\n",
    "            'logfoldchanges': adata_subset.uns['rank_genes_groups']['logfoldchanges'][f'CMs-{chamber}_KO'],\n",
    "            'pvals': adata_subset.uns['rank_genes_groups']['pvals'][f'CMs-{chamber}_KO'],\n",
    "            'pvals_adj': adata_subset.uns['rank_genes_groups']['pvals_adj'][f'CMs-{chamber}_KO']\n",
    "        }\n",
    "    )\n",
    "else:\n",
    "    print('oops2')\n",
    "    \n",
    "de_results['genes'] = de_results['genes'].apply(lambda x: x[0] if isinstance(x, tuple) else x)"
   ]
  },
  {
   "cell_type": "markdown",
   "id": "5b8c9f4c-3f40-41e3-9770-49b6c44e41a5",
   "metadata": {
    "tags": []
   },
   "source": [
    "#### Function to get coefficient matrix for perturbation study"
   ]
  },
  {
   "cell_type": "code",
   "execution_count": 26,
   "id": "aa4c3a3d-e50a-4011-a542-8ff4ed7c72bc",
   "metadata": {
    "tags": []
   },
   "outputs": [],
   "source": [
    "def get_coef_matrix(links_df):\n",
    "    all_genes = np.unique(list(links_df['source'].values) + list(links_df['target'].values))\n",
    "\n",
    "    all_coefficients = np.zeros((len(all_genes), len(all_genes)))\n",
    "    coefficients_matrix = pd.DataFrame(all_coefficients, index=all_genes, columns=all_genes)\n",
    "\n",
    "    for row in links_df.itertuples():\n",
    "        coefficients_matrix.at[row.source, row.target] = row.coef_mean\n",
    "    return coefficients_matrix"
   ]
  },
  {
   "cell_type": "markdown",
   "id": "b021d2b8-dc95-43ec-bf81-6d687184200f",
   "metadata": {},
   "source": [
    "#### Function to calculate gene change after TF perturbation"
   ]
  },
  {
   "cell_type": "code",
   "execution_count": 27,
   "id": "79684044-7cc5-45df-bb2f-0c678f174969",
   "metadata": {
    "tags": []
   },
   "outputs": [],
   "source": [
    "def get_gene_change(genes_to_change, coef_matrix, iterations):\n",
    "    delta_x = np.zeros(coef_matrix.shape[0])\n",
    "\n",
    "    for g in genes_to_change:\n",
    "        delta_x[coef_matrix.index.get_loc(g)] = -1\n",
    "\n",
    "    change = np.zeros(coef_matrix.shape[0])\n",
    "\n",
    "    for i in range(0, iterations):\n",
    "        change = change + np.matmul(delta_x, coef_matrix.values)\n",
    "        delta_x = delta_x + change\n",
    "\n",
    "\n",
    "    change_dict = dict(zip([x for x in coef_matrix.index], [x for x in change]))\n",
    "\n",
    "    change_df = pd.DataFrame({'name': [x for x in coef_matrix.index],\n",
    "                             'delta_x': [x for x in change]})\n",
    "\n",
    "\n",
    "    pos_genes = []\n",
    "    neg_genes = []\n",
    "\n",
    "    for g, val in change_dict.items():\n",
    "        if val > 0:\n",
    "            pos_genes.append(g)\n",
    "        if val < 0: \n",
    "            neg_genes.append(g)\n",
    "\n",
    "    return change_dict, pos_genes, neg_genes, change_df"
   ]
  },
  {
   "cell_type": "markdown",
   "id": "c18150c5-4baf-497c-aa4e-d08acf09c7a1",
   "metadata": {},
   "source": [
    "#### Compare DEG to network simulation of TF knockdown"
   ]
  },
  {
   "cell_type": "code",
   "execution_count": 30,
   "id": "c7966341-c2d7-4402-b547-e012e13e9d18",
   "metadata": {
    "tags": []
   },
   "outputs": [
    {
     "name": "stdout",
     "output_type": "stream",
     "text": [
      "(POSITIVE RESULT) Genes our model predicts will decrease in KO and are actually downregulated in KO.\n",
      "Ttn\n",
      "Ppp1r14c\n",
      "Tnnc1\n",
      "Filip1\n",
      "Myom1\n",
      "Hdac9\n",
      "Ctnna3\n",
      "Fam49a\n",
      "Csrp3\n",
      "Mybpc3\n",
      "Sptb\n",
      "5430431A17Rik\n",
      "12\n",
      "\n",
      "\n",
      "(POSITIVE RESULT) Genes our model predicts will increase in KO and actually increase in KO\n",
      "Igfbp2\n",
      "1\n",
      "\n",
      "\n",
      "(NEGATIVE RESULT) Genes our model predicts will decrease in KO, BUT actually INCREASE in KO.\n",
      "0\n",
      "\n",
      "\n",
      "(NEGATIVE RESULT) Genes our model predicts will increase in KO, BUT actually DECREASE in KO.\n",
      "0\n",
      "Mef2c: Accuracy of: 1.0, and num tf + tn = 13\n"
     ]
    }
   ],
   "source": [
    "tf = 'Mef2c'\n",
    "\n",
    "coef_matrix = get_coef_matrix(links_wt_e85.filtered_links['IFT-CMs_WT'])\n",
    "gene_change, up_genes, down_genes, change_df = get_gene_change([tf], coef_matrix, iterations=1)\n",
    "de_lost_in_ko = de_results[de_results.logfoldchanges < -1.5]\n",
    "de_gained_in_ko = de_results[de_results.logfoldchanges >1.5]\n",
    "\n",
    "i = 0\n",
    "print('(POSITIVE RESULT) Genes our model predicts will decrease in KO and are actually downregulated in KO.')\n",
    "\n",
    "for g in change_df[change_df['delta_x'] < -0.01].sort_values('delta_x')['name'].values:\n",
    "    if g in de_lost_in_ko['genes'].values:\n",
    "        print(g)\n",
    "        i += 1\n",
    "tp = i\n",
    "print(i)\n",
    "print('\\n')\n",
    "\n",
    "print('(POSITIVE RESULT) Genes our model predicts will increase in KO and actually increase in KO')\n",
    "i = 0\n",
    "for g in change_df[change_df['delta_x'] > 0.01].sort_values('delta_x')['name'].values:\n",
    "    if g in de_gained_in_ko['genes'].values:\n",
    "        print(g)\n",
    "        i += 1\n",
    "tn = i\n",
    "print(i)\n",
    "print('\\n')\n",
    "\n",
    "print('(NEGATIVE RESULT) Genes our model predicts will decrease in KO, BUT actually INCREASE in KO.')\n",
    "i = 0\n",
    "for g in change_df[change_df['delta_x'] < -0.01].sort_values('delta_x')['name'].values:\n",
    "    if g in de_gained_in_ko['genes'].values:\n",
    "        print(g)\n",
    "        i += 1\n",
    "fp = i\n",
    "print(i)\n",
    "\n",
    "print('\\n')\n",
    "print('(NEGATIVE RESULT) Genes our model predicts will increase in KO, BUT actually DECREASE in KO.')\n",
    "i = 0\n",
    "for g in change_df[change_df['delta_x'] > 0.01].sort_values('delta_x')['name'].values:\n",
    "    if g in de_lost_in_ko['genes'].values:\n",
    "        print(g)\n",
    "        i += 1\n",
    "fn = i\n",
    "print(i)\n",
    "\n",
    "\n",
    "print(f\"{tf}: Accuracy of: {(tp + tn) / (tp+tn+fp+fn)}, and num tf + tn = {tp+tn}\")"
   ]
  }
 ],
 "metadata": {
  "kernelspec": {
   "display_name": "Python 3 (ipykernel)",
   "language": "python",
   "name": "python3"
  },
  "language_info": {
   "codemirror_mode": {
    "name": "ipython",
    "version": 3
   },
   "file_extension": ".py",
   "mimetype": "text/x-python",
   "name": "python",
   "nbconvert_exporter": "python",
   "pygments_lexer": "ipython3",
   "version": "3.11.5"
  }
 },
 "nbformat": 4,
 "nbformat_minor": 5
}
